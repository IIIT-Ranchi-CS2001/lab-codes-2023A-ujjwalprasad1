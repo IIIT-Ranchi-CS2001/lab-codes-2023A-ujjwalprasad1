{
 "cells": [
  {
   "cell_type": "markdown",
   "metadata": {},
   "source": [
    "Python Lab Examination"
   ]
  },
  {
   "cell_type": "markdown",
   "metadata": {},
   "source": []
  },
  {
   "cell_type": "code",
   "execution_count": 3,
   "metadata": {},
   "outputs": [],
   "source": [
    "#load the dataset using pandas and perform following\n",
    "import pandas as pd\n",
    "df = pd.read_csv(\"AQI_Data.csv\")"
   ]
  },
  {
   "cell_type": "code",
   "execution_count": 6,
   "metadata": {},
   "outputs": [
    {
     "name": "stdout",
     "output_type": "stream",
     "text": [
      "First 5 Rows of the Dataset     City        Date  AQI  PM2.5  PM10        NO2        CO          O3  \\\n",
      "0  Delhi  2024-01-01  152    153   151  26.509131  1.581413  123.401530   \n",
      "1  Delhi  2024-01-02  264    288   268  87.955853  1.242119  144.533790   \n",
      "2  Delhi  2024-01-03  307    344   357  94.469744  0.101480  198.520196   \n",
      "3  Delhi  2024-01-04  363    334   347  12.075618  1.097072   85.973585   \n",
      "4  Delhi  2024-01-05  237    266   250  51.046299  1.591834   47.938019   \n",
      "\n",
      "         SO2  \n",
      "0  25.062474  \n",
      "1   5.926302  \n",
      "2  32.786668  \n",
      "3   7.099955  \n",
      "4  28.140550  \n"
     ]
    }
   ],
   "source": [
    "# a. display the first 5 rows of the dataframe\n",
    "print(\"First 5 Rows of the Dataset\",df.head())"
   ]
  },
  {
   "cell_type": "code",
   "execution_count": 7,
   "metadata": {},
   "outputs": [
    {
     "name": "stdout",
     "output_type": "stream",
     "text": [
      "THe last 6 rows of the dataset are: \n",
      "       City        Date  AQI  PM2.5  PM10        NO2        CO          O3  \\\n",
      "2556  Pune  2024-12-26   80     95    82  88.809636  0.497454  129.043801   \n",
      "2557  Pune  2024-12-27  419    448   462  26.701714  1.553582   86.973954   \n",
      "2558  Pune  2024-12-28  252    202   182  19.920962  1.599821   41.939484   \n",
      "2559  Pune  2024-12-29  365    414   410  80.815702  1.919950   39.982167   \n",
      "2560  Pune  2024-12-30  253    269   285  66.231614  0.611800   63.966705   \n",
      "2561  Pune  2024-12-31   95    140   117  99.505459  0.122817  112.774765   \n",
      "\n",
      "            SO2  \n",
      "2556   8.657624  \n",
      "2557  44.263423  \n",
      "2558  20.545087  \n",
      "2559  22.646297  \n",
      "2560  10.580135  \n",
      "2561  30.814997  \n"
     ]
    }
   ],
   "source": [
    "# b. Display the last 6 rows\n",
    "print(\"THe last 6 rows of the dataset are: \\n\", df.tail(6))"
   ]
  },
  {
   "cell_type": "code",
   "execution_count": 9,
   "metadata": {},
   "outputs": [
    {
     "name": "stdout",
     "output_type": "stream",
     "text": [
      "the summary statistics for all numeric columns in the dataset are:                AQI        PM2.5         PM10          NO2           CO  \\\n",
      "count  2562.000000  2562.000000  2562.000000  2562.000000  2562.000000   \n",
      "mean    277.635051   276.738486   275.988290    54.151115     1.037476   \n",
      "std     128.603738   131.015126   131.900856    25.744072     0.560294   \n",
      "min      50.000000     2.000000   -26.000000    10.036926     0.100100   \n",
      "25%     166.250000   165.000000   166.000000    32.025372     0.545341   \n",
      "50%     276.000000   274.500000   274.000000    53.606459     1.010095   \n",
      "75%     388.750000   388.000000   386.000000    76.322683     1.533300   \n",
      "max     499.000000   543.000000   559.000000    99.974242     1.999528   \n",
      "\n",
      "                O3          SO2  \n",
      "count  2562.000000  2562.000000  \n",
      "mean    104.832673    27.746349  \n",
      "std      54.878784    12.927527  \n",
      "min      10.045129     5.000524  \n",
      "25%      58.169877    16.685076  \n",
      "50%     104.345545    27.872017  \n",
      "75%     152.515574    38.878445  \n",
      "max     199.979607    49.976055  \n"
     ]
    }
   ],
   "source": [
    "# c. show the summary statistics for all numeric columns in the dataframe\n",
    "print(\"the summary statistics for all numeric columns in the dataset are:\",df.describe())"
   ]
  },
  {
   "cell_type": "code",
   "execution_count": null,
   "metadata": {},
   "outputs": [
    {
     "name": "stdout",
     "output_type": "stream",
     "text": [
      "City\n",
      "Bangalore    279.543716\n",
      "Chennai      274.314208\n",
      "Delhi        279.153005\n",
      "Hyderabad    280.355191\n",
      "Kolkata      265.901639\n",
      "Mumbai       287.797814\n",
      "Pune         276.379781\n",
      "Name: AQI, dtype: float64\n",
      "City\n",
      "Bangalore    278.469945\n",
      "Chennai      275.139344\n",
      "Delhi        279.898907\n",
      "Hyderabad    277.825137\n",
      "Kolkata      264.663934\n",
      "Mumbai       286.046448\n",
      "Pune         275.125683\n",
      "Name: PM2.5, dtype: float64\n",
      "City\n",
      "Bangalore    277.759563\n",
      "Chennai      273.265027\n",
      "Delhi        279.349727\n",
      "Hyderabad    276.456284\n",
      "Kolkata      263.644809\n",
      "Mumbai       286.669399\n",
      "Pune         274.773224\n",
      "Name: PM10, dtype: float64\n"
     ]
    }
   ],
   "source": [
    "# d. Use the numpy to compute the mean AQI, PM2.5, and PM10 values for each city.\n",
    "import numpy as np\n",
    "AQI_mean= df.groupby('City')['AQI'].mean()\n",
    "PM25_mean= df.groupby('City')['PM2.5'].mean()\n",
    "PM10_mean= df.groupby('City')['PM10'].mean()\n",
    "print(\"the mean AQI, PM2.5, and PM10 values for each city :\")\n",
    "print(AQI_mean)\n",
    "print(PM25_mean)\n",
    "print(PM10_mean)"
   ]
  },
  {
   "cell_type": "code",
   "execution_count": 40,
   "metadata": {},
   "outputs": [
    {
     "name": "stdout",
     "output_type": "stream",
     "text": [
      "lowest average City\n",
      "Kolkata    265.901639\n",
      "Name: AQI, dtype: float64\n",
      "Highest average City\n",
      "Mumbai    287.797814\n",
      "Name: AQI, dtype: float64\n"
     ]
    }
   ],
   "source": [
    "# 1. Find out the highest and lowest average AQI.\n",
    "average_sorted = df.groupby('City')['AQI'].mean().sort_values()\n",
    "print(\"lowest average\", average_sorted.head(1))\n",
    "print(\"Highest average\",average_sorted.tail(1))"
   ]
  }
 ],
 "metadata": {
  "kernelspec": {
   "display_name": "Python 3",
   "language": "python",
   "name": "python3"
  },
  "language_info": {
   "codemirror_mode": {
    "name": "ipython",
    "version": 3
   },
   "file_extension": ".py",
   "mimetype": "text/x-python",
   "name": "python",
   "nbconvert_exporter": "python",
   "pygments_lexer": "ipython3",
   "version": "3.12.4"
  }
 },
 "nbformat": 4,
 "nbformat_minor": 2
}
